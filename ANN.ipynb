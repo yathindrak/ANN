{
  "nbformat": 4,
  "nbformat_minor": 0,
  "metadata": {
    "colab": {
      "name": "ANN.ipynb",
      "provenance": [],
      "collapsed_sections": []
    },
    "kernelspec": {
      "name": "python3",
      "display_name": "Python 3"
    }
  },
  "cells": [
    {
      "cell_type": "code",
      "metadata": {
        "id": "jiWKsEj0QxZ3",
        "colab_type": "code",
        "outputId": "2bc9fc04-680a-48bf-a19d-994f076617c8",
        "colab": {
          "base_uri": "https://localhost:8080/",
          "height": 35
        }
      },
      "source": [
        "%tensorflow_version 2.x"
      ],
      "execution_count": 1,
      "outputs": [
        {
          "output_type": "stream",
          "text": [
            "TensorFlow 2.x selected.\n"
          ],
          "name": "stdout"
        }
      ]
    },
    {
      "cell_type": "code",
      "metadata": {
        "id": "4wGP_Dv6Q26i",
        "colab_type": "code",
        "colab": {}
      },
      "source": [
        "# Artificial Neural Network\n",
        "\n",
        "# Part 1 - Data Preprocessing\n",
        "\n",
        "# Importing the libraries\n",
        "import numpy as np\n",
        "import matplotlib.pyplot as plt\n",
        "import pandas as pd\n"
      ],
      "execution_count": 0,
      "outputs": []
    },
    {
      "cell_type": "code",
      "metadata": {
        "id": "4bXHeDVVRZwB",
        "colab_type": "code",
        "colab": {}
      },
      "source": [
        "# Importing the dataset\n",
        "dataset = pd.read_csv('Churn_Modelling.csv')\n",
        "X = dataset.iloc[:, 3:13]\n",
        "y = dataset.iloc[:, 13]\n"
      ],
      "execution_count": 0,
      "outputs": []
    },
    {
      "cell_type": "code",
      "metadata": {
        "id": "yYcwr1i5RhcK",
        "colab_type": "code",
        "colab": {}
      },
      "source": [
        "#Create dummy variables\n",
        "geography=pd.get_dummies(X[\"Geography\"])\n",
        "gender=pd.get_dummies(X['Gender'])"
      ],
      "execution_count": 0,
      "outputs": []
    },
    {
      "cell_type": "code",
      "metadata": {
        "id": "Xp2ngjzGRzR9",
        "colab_type": "code",
        "colab": {}
      },
      "source": [
        "## Concatenate the Data Frames\n",
        "X=pd.concat([X,geography,gender],axis=1)\n",
        "\n",
        "## Drop Unnecessary columns\n",
        "X=X.drop(['Geography','Gender'],axis=1)"
      ],
      "execution_count": 0,
      "outputs": []
    },
    {
      "cell_type": "code",
      "metadata": {
        "id": "yFbaHVNVRiuU",
        "colab_type": "code",
        "outputId": "9d3cbc49-6873-4f5f-9c31-a66d481b5782",
        "colab": {
          "base_uri": "https://localhost:8080/",
          "height": 444
        }
      },
      "source": [
        "X"
      ],
      "execution_count": 6,
      "outputs": [
        {
          "output_type": "execute_result",
          "data": {
            "text/html": [
              "<div>\n",
              "<style scoped>\n",
              "    .dataframe tbody tr th:only-of-type {\n",
              "        vertical-align: middle;\n",
              "    }\n",
              "\n",
              "    .dataframe tbody tr th {\n",
              "        vertical-align: top;\n",
              "    }\n",
              "\n",
              "    .dataframe thead th {\n",
              "        text-align: right;\n",
              "    }\n",
              "</style>\n",
              "<table border=\"1\" class=\"dataframe\">\n",
              "  <thead>\n",
              "    <tr style=\"text-align: right;\">\n",
              "      <th></th>\n",
              "      <th>CreditScore</th>\n",
              "      <th>Age</th>\n",
              "      <th>Tenure</th>\n",
              "      <th>Balance</th>\n",
              "      <th>NumOfProducts</th>\n",
              "      <th>HasCrCard</th>\n",
              "      <th>IsActiveMember</th>\n",
              "      <th>EstimatedSalary</th>\n",
              "      <th>France</th>\n",
              "      <th>Germany</th>\n",
              "      <th>Spain</th>\n",
              "      <th>Female</th>\n",
              "      <th>Male</th>\n",
              "    </tr>\n",
              "  </thead>\n",
              "  <tbody>\n",
              "    <tr>\n",
              "      <th>0</th>\n",
              "      <td>619</td>\n",
              "      <td>42</td>\n",
              "      <td>2</td>\n",
              "      <td>0.00</td>\n",
              "      <td>1</td>\n",
              "      <td>1</td>\n",
              "      <td>1</td>\n",
              "      <td>101348.88</td>\n",
              "      <td>1</td>\n",
              "      <td>0</td>\n",
              "      <td>0</td>\n",
              "      <td>1</td>\n",
              "      <td>0</td>\n",
              "    </tr>\n",
              "    <tr>\n",
              "      <th>1</th>\n",
              "      <td>608</td>\n",
              "      <td>41</td>\n",
              "      <td>1</td>\n",
              "      <td>83807.86</td>\n",
              "      <td>1</td>\n",
              "      <td>0</td>\n",
              "      <td>1</td>\n",
              "      <td>112542.58</td>\n",
              "      <td>0</td>\n",
              "      <td>0</td>\n",
              "      <td>1</td>\n",
              "      <td>1</td>\n",
              "      <td>0</td>\n",
              "    </tr>\n",
              "    <tr>\n",
              "      <th>2</th>\n",
              "      <td>502</td>\n",
              "      <td>42</td>\n",
              "      <td>8</td>\n",
              "      <td>159660.80</td>\n",
              "      <td>3</td>\n",
              "      <td>1</td>\n",
              "      <td>0</td>\n",
              "      <td>113931.57</td>\n",
              "      <td>1</td>\n",
              "      <td>0</td>\n",
              "      <td>0</td>\n",
              "      <td>1</td>\n",
              "      <td>0</td>\n",
              "    </tr>\n",
              "    <tr>\n",
              "      <th>3</th>\n",
              "      <td>699</td>\n",
              "      <td>39</td>\n",
              "      <td>1</td>\n",
              "      <td>0.00</td>\n",
              "      <td>2</td>\n",
              "      <td>0</td>\n",
              "      <td>0</td>\n",
              "      <td>93826.63</td>\n",
              "      <td>1</td>\n",
              "      <td>0</td>\n",
              "      <td>0</td>\n",
              "      <td>1</td>\n",
              "      <td>0</td>\n",
              "    </tr>\n",
              "    <tr>\n",
              "      <th>4</th>\n",
              "      <td>850</td>\n",
              "      <td>43</td>\n",
              "      <td>2</td>\n",
              "      <td>125510.82</td>\n",
              "      <td>1</td>\n",
              "      <td>1</td>\n",
              "      <td>1</td>\n",
              "      <td>79084.10</td>\n",
              "      <td>0</td>\n",
              "      <td>0</td>\n",
              "      <td>1</td>\n",
              "      <td>1</td>\n",
              "      <td>0</td>\n",
              "    </tr>\n",
              "    <tr>\n",
              "      <th>...</th>\n",
              "      <td>...</td>\n",
              "      <td>...</td>\n",
              "      <td>...</td>\n",
              "      <td>...</td>\n",
              "      <td>...</td>\n",
              "      <td>...</td>\n",
              "      <td>...</td>\n",
              "      <td>...</td>\n",
              "      <td>...</td>\n",
              "      <td>...</td>\n",
              "      <td>...</td>\n",
              "      <td>...</td>\n",
              "      <td>...</td>\n",
              "    </tr>\n",
              "    <tr>\n",
              "      <th>9995</th>\n",
              "      <td>771</td>\n",
              "      <td>39</td>\n",
              "      <td>5</td>\n",
              "      <td>0.00</td>\n",
              "      <td>2</td>\n",
              "      <td>1</td>\n",
              "      <td>0</td>\n",
              "      <td>96270.64</td>\n",
              "      <td>1</td>\n",
              "      <td>0</td>\n",
              "      <td>0</td>\n",
              "      <td>0</td>\n",
              "      <td>1</td>\n",
              "    </tr>\n",
              "    <tr>\n",
              "      <th>9996</th>\n",
              "      <td>516</td>\n",
              "      <td>35</td>\n",
              "      <td>10</td>\n",
              "      <td>57369.61</td>\n",
              "      <td>1</td>\n",
              "      <td>1</td>\n",
              "      <td>1</td>\n",
              "      <td>101699.77</td>\n",
              "      <td>1</td>\n",
              "      <td>0</td>\n",
              "      <td>0</td>\n",
              "      <td>0</td>\n",
              "      <td>1</td>\n",
              "    </tr>\n",
              "    <tr>\n",
              "      <th>9997</th>\n",
              "      <td>709</td>\n",
              "      <td>36</td>\n",
              "      <td>7</td>\n",
              "      <td>0.00</td>\n",
              "      <td>1</td>\n",
              "      <td>0</td>\n",
              "      <td>1</td>\n",
              "      <td>42085.58</td>\n",
              "      <td>1</td>\n",
              "      <td>0</td>\n",
              "      <td>0</td>\n",
              "      <td>1</td>\n",
              "      <td>0</td>\n",
              "    </tr>\n",
              "    <tr>\n",
              "      <th>9998</th>\n",
              "      <td>772</td>\n",
              "      <td>42</td>\n",
              "      <td>3</td>\n",
              "      <td>75075.31</td>\n",
              "      <td>2</td>\n",
              "      <td>1</td>\n",
              "      <td>0</td>\n",
              "      <td>92888.52</td>\n",
              "      <td>0</td>\n",
              "      <td>1</td>\n",
              "      <td>0</td>\n",
              "      <td>0</td>\n",
              "      <td>1</td>\n",
              "    </tr>\n",
              "    <tr>\n",
              "      <th>9999</th>\n",
              "      <td>792</td>\n",
              "      <td>28</td>\n",
              "      <td>4</td>\n",
              "      <td>130142.79</td>\n",
              "      <td>1</td>\n",
              "      <td>1</td>\n",
              "      <td>0</td>\n",
              "      <td>38190.78</td>\n",
              "      <td>1</td>\n",
              "      <td>0</td>\n",
              "      <td>0</td>\n",
              "      <td>1</td>\n",
              "      <td>0</td>\n",
              "    </tr>\n",
              "  </tbody>\n",
              "</table>\n",
              "<p>10000 rows × 13 columns</p>\n",
              "</div>"
            ],
            "text/plain": [
              "      CreditScore  Age  Tenure    Balance  ...  Germany  Spain  Female  Male\n",
              "0             619   42       2       0.00  ...        0      0       1     0\n",
              "1             608   41       1   83807.86  ...        0      1       1     0\n",
              "2             502   42       8  159660.80  ...        0      0       1     0\n",
              "3             699   39       1       0.00  ...        0      0       1     0\n",
              "4             850   43       2  125510.82  ...        0      1       1     0\n",
              "...           ...  ...     ...        ...  ...      ...    ...     ...   ...\n",
              "9995          771   39       5       0.00  ...        0      0       0     1\n",
              "9996          516   35      10   57369.61  ...        0      0       0     1\n",
              "9997          709   36       7       0.00  ...        0      0       1     0\n",
              "9998          772   42       3   75075.31  ...        1      0       0     1\n",
              "9999          792   28       4  130142.79  ...        0      0       1     0\n",
              "\n",
              "[10000 rows x 13 columns]"
            ]
          },
          "metadata": {
            "tags": []
          },
          "execution_count": 6
        }
      ]
    },
    {
      "cell_type": "markdown",
      "metadata": {
        "id": "Ff-TzDJj-3ZU",
        "colab_type": "text"
      },
      "source": [
        ""
      ]
    },
    {
      "cell_type": "code",
      "metadata": {
        "id": "zBDYGsNxR_OQ",
        "colab_type": "code",
        "colab": {}
      },
      "source": [
        "# Splitting the dataset into the Training set and Test set\n",
        "from sklearn.model_selection import train_test_split\n",
        "X_train, X_test, y_train, y_test = train_test_split(X, y, test_size = 0.2, random_state = 0)"
      ],
      "execution_count": 0,
      "outputs": []
    },
    {
      "cell_type": "code",
      "metadata": {
        "id": "IqRdKZfiSIqk",
        "colab_type": "code",
        "colab": {}
      },
      "source": [
        "# Feature Scaling\n",
        "from sklearn.preprocessing import StandardScaler\n",
        "sc = StandardScaler()\n",
        "X_train = sc.fit_transform(X_train)\n",
        "X_test = sc.transform(X_test)"
      ],
      "execution_count": 0,
      "outputs": []
    },
    {
      "cell_type": "code",
      "metadata": {
        "id": "uoyQPqN1SM6M",
        "colab_type": "code",
        "colab": {}
      },
      "source": [
        "# Part 2 - Now let's make the ANN!\n",
        "\n",
        "# Importing the Keras libraries and packages\n",
        "import tensorflow.keras\n",
        "from tensorflow.keras.models import Sequential\n",
        "from tensorflow.keras.layers import Dense\n",
        "from tensorflow.keras.layers import LeakyReLU,PReLU,ELU\n",
        "from tensorflow.keras.layers import Dropout\n",
        "\n",
        "# Initialising the ANN\n",
        "classifier = Sequential()\n",
        "\n",
        "# Adding the input layer and the first hidden layer\n",
        "classifier.add(Dense(units = 6, kernel_initializer = 'he_uniform',activation='relu',input_dim = 13))\n",
        "\n",
        "# Adding the second hidden layer\n",
        "classifier.add(Dense(units = 6, kernel_initializer = 'he_uniform',activation='relu'))\n",
        "# Adding the output layer\n",
        "classifier.add(Dense(units = 1, kernel_initializer = 'glorot_uniform', activation = 'sigmoid'))"
      ],
      "execution_count": 0,
      "outputs": []
    },
    {
      "cell_type": "code",
      "metadata": {
        "id": "medy5AZfSZr6",
        "colab_type": "code",
        "outputId": "432b7ef9-5d3d-4fb9-dbc8-671aeee976a7",
        "colab": {
          "base_uri": "https://localhost:8080/",
          "height": 1000
        }
      },
      "source": [
        "# Compiling the ANN\n",
        "classifier.compile(optimizer = 'Adamax', loss = 'binary_crossentropy', metrics = ['accuracy'])\n",
        "\n",
        "# Fitting the ANN to the Training set\n",
        "model_history=classifier.fit(X_train, y_train,validation_split=0.33, batch_size = 10, epochs = 100)"
      ],
      "execution_count": 10,
      "outputs": [
        {
          "output_type": "stream",
          "text": [
            "Train on 5359 samples, validate on 2641 samples\n",
            "Epoch 1/100\n",
            "5359/5359 [==============================] - 1s 268us/sample - loss: 0.6321 - accuracy: 0.6790 - val_loss: 0.5613 - val_accuracy: 0.7857\n",
            "Epoch 2/100\n",
            "5359/5359 [==============================] - 1s 187us/sample - loss: 0.5221 - accuracy: 0.7960 - val_loss: 0.5212 - val_accuracy: 0.7955\n",
            "Epoch 3/100\n",
            "5359/5359 [==============================] - 1s 183us/sample - loss: 0.4981 - accuracy: 0.7962 - val_loss: 0.5054 - val_accuracy: 0.7955\n",
            "Epoch 4/100\n",
            "5359/5359 [==============================] - 1s 183us/sample - loss: 0.4859 - accuracy: 0.7962 - val_loss: 0.4950 - val_accuracy: 0.7955\n",
            "Epoch 5/100\n",
            "5359/5359 [==============================] - 1s 184us/sample - loss: 0.4775 - accuracy: 0.7962 - val_loss: 0.4874 - val_accuracy: 0.7955\n",
            "Epoch 6/100\n",
            "5359/5359 [==============================] - 1s 181us/sample - loss: 0.4712 - accuracy: 0.7962 - val_loss: 0.4815 - val_accuracy: 0.7955\n",
            "Epoch 7/100\n",
            "5359/5359 [==============================] - 1s 189us/sample - loss: 0.4664 - accuracy: 0.7962 - val_loss: 0.4765 - val_accuracy: 0.7955\n",
            "Epoch 8/100\n",
            "5359/5359 [==============================] - 1s 188us/sample - loss: 0.4620 - accuracy: 0.7962 - val_loss: 0.4719 - val_accuracy: 0.7955\n",
            "Epoch 9/100\n",
            "5359/5359 [==============================] - 1s 187us/sample - loss: 0.4580 - accuracy: 0.7962 - val_loss: 0.4677 - val_accuracy: 0.7955\n",
            "Epoch 10/100\n",
            "5359/5359 [==============================] - 1s 194us/sample - loss: 0.4542 - accuracy: 0.7962 - val_loss: 0.4635 - val_accuracy: 0.7955\n",
            "Epoch 11/100\n",
            "5359/5359 [==============================] - 1s 186us/sample - loss: 0.4505 - accuracy: 0.7962 - val_loss: 0.4596 - val_accuracy: 0.7955\n",
            "Epoch 12/100\n",
            "5359/5359 [==============================] - 1s 184us/sample - loss: 0.4473 - accuracy: 0.7962 - val_loss: 0.4561 - val_accuracy: 0.7955\n",
            "Epoch 13/100\n",
            "5359/5359 [==============================] - 1s 181us/sample - loss: 0.4443 - accuracy: 0.7962 - val_loss: 0.4526 - val_accuracy: 0.7955\n",
            "Epoch 14/100\n",
            "5359/5359 [==============================] - 1s 185us/sample - loss: 0.4413 - accuracy: 0.7962 - val_loss: 0.4498 - val_accuracy: 0.7955\n",
            "Epoch 15/100\n",
            "5359/5359 [==============================] - 1s 186us/sample - loss: 0.4386 - accuracy: 0.7962 - val_loss: 0.4474 - val_accuracy: 0.7955\n",
            "Epoch 16/100\n",
            "5359/5359 [==============================] - 1s 188us/sample - loss: 0.4361 - accuracy: 0.7962 - val_loss: 0.4452 - val_accuracy: 0.7955\n",
            "Epoch 17/100\n",
            "5359/5359 [==============================] - 1s 190us/sample - loss: 0.4338 - accuracy: 0.7960 - val_loss: 0.4433 - val_accuracy: 0.7955\n",
            "Epoch 18/100\n",
            "5359/5359 [==============================] - 1s 188us/sample - loss: 0.4317 - accuracy: 0.7962 - val_loss: 0.4417 - val_accuracy: 0.7952\n",
            "Epoch 19/100\n",
            "5359/5359 [==============================] - 1s 191us/sample - loss: 0.4299 - accuracy: 0.7966 - val_loss: 0.4403 - val_accuracy: 0.7955\n",
            "Epoch 20/100\n",
            "5359/5359 [==============================] - 1s 189us/sample - loss: 0.4281 - accuracy: 0.7968 - val_loss: 0.4391 - val_accuracy: 0.7952\n",
            "Epoch 21/100\n",
            "5359/5359 [==============================] - 1s 189us/sample - loss: 0.4265 - accuracy: 0.7970 - val_loss: 0.4379 - val_accuracy: 0.7948\n",
            "Epoch 22/100\n",
            "5359/5359 [==============================] - 1s 190us/sample - loss: 0.4250 - accuracy: 0.7974 - val_loss: 0.4368 - val_accuracy: 0.7948\n",
            "Epoch 23/100\n",
            "5359/5359 [==============================] - 1s 183us/sample - loss: 0.4237 - accuracy: 0.7983 - val_loss: 0.4358 - val_accuracy: 0.7952\n",
            "Epoch 24/100\n",
            "5359/5359 [==============================] - 1s 180us/sample - loss: 0.4224 - accuracy: 0.7985 - val_loss: 0.4346 - val_accuracy: 0.7952\n",
            "Epoch 25/100\n",
            "5359/5359 [==============================] - 1s 183us/sample - loss: 0.4211 - accuracy: 0.7996 - val_loss: 0.4334 - val_accuracy: 0.7944\n",
            "Epoch 26/100\n",
            "5359/5359 [==============================] - 1s 180us/sample - loss: 0.4198 - accuracy: 0.7996 - val_loss: 0.4323 - val_accuracy: 0.7952\n",
            "Epoch 27/100\n",
            "5359/5359 [==============================] - 1s 187us/sample - loss: 0.4185 - accuracy: 0.8000 - val_loss: 0.4310 - val_accuracy: 0.7948\n",
            "Epoch 28/100\n",
            "5359/5359 [==============================] - 1s 183us/sample - loss: 0.4172 - accuracy: 0.8007 - val_loss: 0.4297 - val_accuracy: 0.7955\n",
            "Epoch 29/100\n",
            "5359/5359 [==============================] - 1s 183us/sample - loss: 0.4159 - accuracy: 0.8020 - val_loss: 0.4285 - val_accuracy: 0.7967\n",
            "Epoch 30/100\n",
            "5359/5359 [==============================] - 1s 186us/sample - loss: 0.4145 - accuracy: 0.8018 - val_loss: 0.4271 - val_accuracy: 0.7963\n",
            "Epoch 31/100\n",
            "5359/5359 [==============================] - 1s 191us/sample - loss: 0.4131 - accuracy: 0.8033 - val_loss: 0.4255 - val_accuracy: 0.7974\n",
            "Epoch 32/100\n",
            "5359/5359 [==============================] - 1s 192us/sample - loss: 0.4118 - accuracy: 0.8037 - val_loss: 0.4241 - val_accuracy: 0.7974\n",
            "Epoch 33/100\n",
            "5359/5359 [==============================] - 1s 190us/sample - loss: 0.4104 - accuracy: 0.8037 - val_loss: 0.4228 - val_accuracy: 0.7982\n",
            "Epoch 34/100\n",
            "5359/5359 [==============================] - 1s 190us/sample - loss: 0.4089 - accuracy: 0.8050 - val_loss: 0.4210 - val_accuracy: 0.7997\n",
            "Epoch 35/100\n",
            "5359/5359 [==============================] - 1s 188us/sample - loss: 0.4073 - accuracy: 0.8054 - val_loss: 0.4196 - val_accuracy: 0.7993\n",
            "Epoch 36/100\n",
            "5359/5359 [==============================] - 1s 183us/sample - loss: 0.4056 - accuracy: 0.8067 - val_loss: 0.4179 - val_accuracy: 0.7997\n",
            "Epoch 37/100\n",
            "5359/5359 [==============================] - 1s 187us/sample - loss: 0.4040 - accuracy: 0.8082 - val_loss: 0.4161 - val_accuracy: 0.8050\n",
            "Epoch 38/100\n",
            "5359/5359 [==============================] - 1s 188us/sample - loss: 0.4021 - accuracy: 0.8140 - val_loss: 0.4145 - val_accuracy: 0.8061\n",
            "Epoch 39/100\n",
            "5359/5359 [==============================] - 1s 185us/sample - loss: 0.4005 - accuracy: 0.8194 - val_loss: 0.4129 - val_accuracy: 0.8243\n",
            "Epoch 40/100\n",
            "5359/5359 [==============================] - 1s 185us/sample - loss: 0.3988 - accuracy: 0.8367 - val_loss: 0.4113 - val_accuracy: 0.8281\n",
            "Epoch 41/100\n",
            "5359/5359 [==============================] - 1s 182us/sample - loss: 0.3973 - accuracy: 0.8362 - val_loss: 0.4096 - val_accuracy: 0.8254\n",
            "Epoch 42/100\n",
            "5359/5359 [==============================] - 1s 180us/sample - loss: 0.3955 - accuracy: 0.8388 - val_loss: 0.4083 - val_accuracy: 0.8258\n",
            "Epoch 43/100\n",
            "5359/5359 [==============================] - 1s 187us/sample - loss: 0.3939 - accuracy: 0.8401 - val_loss: 0.4067 - val_accuracy: 0.8251\n",
            "Epoch 44/100\n",
            "5359/5359 [==============================] - 1s 184us/sample - loss: 0.3922 - accuracy: 0.8405 - val_loss: 0.4053 - val_accuracy: 0.8251\n",
            "Epoch 45/100\n",
            "5359/5359 [==============================] - 1s 185us/sample - loss: 0.3906 - accuracy: 0.8416 - val_loss: 0.4037 - val_accuracy: 0.8262\n",
            "Epoch 46/100\n",
            "5359/5359 [==============================] - 1s 182us/sample - loss: 0.3888 - accuracy: 0.8427 - val_loss: 0.4023 - val_accuracy: 0.8277\n",
            "Epoch 47/100\n",
            "5359/5359 [==============================] - 1s 182us/sample - loss: 0.3872 - accuracy: 0.8449 - val_loss: 0.4009 - val_accuracy: 0.8289\n",
            "Epoch 48/100\n",
            "5359/5359 [==============================] - 1s 182us/sample - loss: 0.3855 - accuracy: 0.8468 - val_loss: 0.3995 - val_accuracy: 0.8292\n",
            "Epoch 49/100\n",
            "5359/5359 [==============================] - 1s 186us/sample - loss: 0.3838 - accuracy: 0.8487 - val_loss: 0.3982 - val_accuracy: 0.8270\n",
            "Epoch 50/100\n",
            "5359/5359 [==============================] - 1s 190us/sample - loss: 0.3822 - accuracy: 0.8494 - val_loss: 0.3969 - val_accuracy: 0.8273\n",
            "Epoch 51/100\n",
            "5359/5359 [==============================] - 1s 184us/sample - loss: 0.3806 - accuracy: 0.8511 - val_loss: 0.3956 - val_accuracy: 0.8289\n",
            "Epoch 52/100\n",
            "5359/5359 [==============================] - 1s 186us/sample - loss: 0.3790 - accuracy: 0.8507 - val_loss: 0.3942 - val_accuracy: 0.8304\n",
            "Epoch 53/100\n",
            "5359/5359 [==============================] - 1s 186us/sample - loss: 0.3773 - accuracy: 0.8515 - val_loss: 0.3926 - val_accuracy: 0.8315\n",
            "Epoch 54/100\n",
            "5359/5359 [==============================] - 1s 182us/sample - loss: 0.3756 - accuracy: 0.8507 - val_loss: 0.3911 - val_accuracy: 0.8311\n",
            "Epoch 55/100\n",
            "5359/5359 [==============================] - 1s 186us/sample - loss: 0.3740 - accuracy: 0.8517 - val_loss: 0.3897 - val_accuracy: 0.8319\n",
            "Epoch 56/100\n",
            "5359/5359 [==============================] - 1s 184us/sample - loss: 0.3724 - accuracy: 0.8511 - val_loss: 0.3882 - val_accuracy: 0.8364\n",
            "Epoch 57/100\n",
            "5359/5359 [==============================] - 1s 189us/sample - loss: 0.3706 - accuracy: 0.8522 - val_loss: 0.3867 - val_accuracy: 0.8368\n",
            "Epoch 58/100\n",
            "5359/5359 [==============================] - 1s 189us/sample - loss: 0.3692 - accuracy: 0.8526 - val_loss: 0.3853 - val_accuracy: 0.8368\n",
            "Epoch 59/100\n",
            "5359/5359 [==============================] - 1s 187us/sample - loss: 0.3676 - accuracy: 0.8531 - val_loss: 0.3841 - val_accuracy: 0.8383\n",
            "Epoch 60/100\n",
            "5359/5359 [==============================] - 1s 188us/sample - loss: 0.3660 - accuracy: 0.8533 - val_loss: 0.3829 - val_accuracy: 0.8398\n",
            "Epoch 61/100\n",
            "5359/5359 [==============================] - 1s 194us/sample - loss: 0.3645 - accuracy: 0.8535 - val_loss: 0.3816 - val_accuracy: 0.8402\n",
            "Epoch 62/100\n",
            "5359/5359 [==============================] - 1s 183us/sample - loss: 0.3629 - accuracy: 0.8535 - val_loss: 0.3805 - val_accuracy: 0.8402\n",
            "Epoch 63/100\n",
            "5359/5359 [==============================] - 1s 188us/sample - loss: 0.3616 - accuracy: 0.8556 - val_loss: 0.3792 - val_accuracy: 0.8410\n",
            "Epoch 64/100\n",
            "5359/5359 [==============================] - 1s 190us/sample - loss: 0.3602 - accuracy: 0.8546 - val_loss: 0.3779 - val_accuracy: 0.8402\n",
            "Epoch 65/100\n",
            "5359/5359 [==============================] - 1s 184us/sample - loss: 0.3589 - accuracy: 0.8546 - val_loss: 0.3766 - val_accuracy: 0.8395\n",
            "Epoch 66/100\n",
            "5359/5359 [==============================] - 1s 187us/sample - loss: 0.3575 - accuracy: 0.8552 - val_loss: 0.3753 - val_accuracy: 0.8398\n",
            "Epoch 67/100\n",
            "5359/5359 [==============================] - 1s 188us/sample - loss: 0.3562 - accuracy: 0.8548 - val_loss: 0.3744 - val_accuracy: 0.8395\n",
            "Epoch 68/100\n",
            "5359/5359 [==============================] - 1s 194us/sample - loss: 0.3550 - accuracy: 0.8569 - val_loss: 0.3732 - val_accuracy: 0.8413\n",
            "Epoch 69/100\n",
            "5359/5359 [==============================] - 1s 190us/sample - loss: 0.3537 - accuracy: 0.8580 - val_loss: 0.3720 - val_accuracy: 0.8417\n",
            "Epoch 70/100\n",
            "5359/5359 [==============================] - 1s 193us/sample - loss: 0.3525 - accuracy: 0.8586 - val_loss: 0.3710 - val_accuracy: 0.8425\n",
            "Epoch 71/100\n",
            "5359/5359 [==============================] - 1s 190us/sample - loss: 0.3515 - accuracy: 0.8580 - val_loss: 0.3701 - val_accuracy: 0.8440\n",
            "Epoch 72/100\n",
            "5359/5359 [==============================] - 1s 187us/sample - loss: 0.3505 - accuracy: 0.8595 - val_loss: 0.3692 - val_accuracy: 0.8459\n",
            "Epoch 73/100\n",
            "5359/5359 [==============================] - 1s 183us/sample - loss: 0.3493 - accuracy: 0.8586 - val_loss: 0.3686 - val_accuracy: 0.8478\n",
            "Epoch 74/100\n",
            "5359/5359 [==============================] - 1s 189us/sample - loss: 0.3486 - accuracy: 0.8593 - val_loss: 0.3678 - val_accuracy: 0.8478\n",
            "Epoch 75/100\n",
            "5359/5359 [==============================] - 1s 186us/sample - loss: 0.3476 - accuracy: 0.8600 - val_loss: 0.3669 - val_accuracy: 0.8485\n",
            "Epoch 76/100\n",
            "5359/5359 [==============================] - 1s 188us/sample - loss: 0.3469 - accuracy: 0.8599 - val_loss: 0.3663 - val_accuracy: 0.8493\n",
            "Epoch 77/100\n",
            "5359/5359 [==============================] - 1s 192us/sample - loss: 0.3462 - accuracy: 0.8602 - val_loss: 0.3658 - val_accuracy: 0.8497\n",
            "Epoch 78/100\n",
            "5359/5359 [==============================] - 1s 191us/sample - loss: 0.3455 - accuracy: 0.8593 - val_loss: 0.3651 - val_accuracy: 0.8504\n",
            "Epoch 79/100\n",
            "5359/5359 [==============================] - 1s 190us/sample - loss: 0.3448 - accuracy: 0.8600 - val_loss: 0.3645 - val_accuracy: 0.8508\n",
            "Epoch 80/100\n",
            "5359/5359 [==============================] - 1s 191us/sample - loss: 0.3442 - accuracy: 0.8599 - val_loss: 0.3640 - val_accuracy: 0.8512\n",
            "Epoch 81/100\n",
            "5359/5359 [==============================] - 1s 192us/sample - loss: 0.3435 - accuracy: 0.8600 - val_loss: 0.3633 - val_accuracy: 0.8516\n",
            "Epoch 82/100\n",
            "5359/5359 [==============================] - 1s 187us/sample - loss: 0.3429 - accuracy: 0.8604 - val_loss: 0.3629 - val_accuracy: 0.8531\n",
            "Epoch 83/100\n",
            "5359/5359 [==============================] - 1s 189us/sample - loss: 0.3424 - accuracy: 0.8591 - val_loss: 0.3624 - val_accuracy: 0.8508\n",
            "Epoch 84/100\n",
            "5359/5359 [==============================] - 1s 189us/sample - loss: 0.3419 - accuracy: 0.8595 - val_loss: 0.3622 - val_accuracy: 0.8493\n",
            "Epoch 85/100\n",
            "5359/5359 [==============================] - 1s 184us/sample - loss: 0.3415 - accuracy: 0.8589 - val_loss: 0.3618 - val_accuracy: 0.8493\n",
            "Epoch 86/100\n",
            "5359/5359 [==============================] - 1s 182us/sample - loss: 0.3410 - accuracy: 0.8580 - val_loss: 0.3612 - val_accuracy: 0.8504\n",
            "Epoch 87/100\n",
            "5359/5359 [==============================] - 1s 186us/sample - loss: 0.3406 - accuracy: 0.8584 - val_loss: 0.3610 - val_accuracy: 0.8504\n",
            "Epoch 88/100\n",
            "5359/5359 [==============================] - 1s 189us/sample - loss: 0.3401 - accuracy: 0.8593 - val_loss: 0.3607 - val_accuracy: 0.8493\n",
            "Epoch 89/100\n",
            "5359/5359 [==============================] - 1s 190us/sample - loss: 0.3397 - accuracy: 0.8591 - val_loss: 0.3606 - val_accuracy: 0.8485\n",
            "Epoch 90/100\n",
            "5359/5359 [==============================] - 1s 189us/sample - loss: 0.3395 - accuracy: 0.8591 - val_loss: 0.3601 - val_accuracy: 0.8497\n",
            "Epoch 91/100\n",
            "5359/5359 [==============================] - 1s 188us/sample - loss: 0.3391 - accuracy: 0.8584 - val_loss: 0.3602 - val_accuracy: 0.8501\n",
            "Epoch 92/100\n",
            "5359/5359 [==============================] - 1s 189us/sample - loss: 0.3388 - accuracy: 0.8589 - val_loss: 0.3598 - val_accuracy: 0.8508\n",
            "Epoch 93/100\n",
            "5359/5359 [==============================] - 1s 189us/sample - loss: 0.3384 - accuracy: 0.8587 - val_loss: 0.3595 - val_accuracy: 0.8504\n",
            "Epoch 94/100\n",
            "5359/5359 [==============================] - 1s 192us/sample - loss: 0.3382 - accuracy: 0.8599 - val_loss: 0.3594 - val_accuracy: 0.8519\n",
            "Epoch 95/100\n",
            "5359/5359 [==============================] - 1s 194us/sample - loss: 0.3378 - accuracy: 0.8591 - val_loss: 0.3592 - val_accuracy: 0.8519\n",
            "Epoch 96/100\n",
            "5359/5359 [==============================] - 1s 181us/sample - loss: 0.3377 - accuracy: 0.8587 - val_loss: 0.3590 - val_accuracy: 0.8519\n",
            "Epoch 97/100\n",
            "5359/5359 [==============================] - 1s 188us/sample - loss: 0.3374 - accuracy: 0.8600 - val_loss: 0.3588 - val_accuracy: 0.8516\n",
            "Epoch 98/100\n",
            "5359/5359 [==============================] - 1s 187us/sample - loss: 0.3371 - accuracy: 0.8580 - val_loss: 0.3590 - val_accuracy: 0.8501\n",
            "Epoch 99/100\n",
            "5359/5359 [==============================] - 1s 189us/sample - loss: 0.3371 - accuracy: 0.8610 - val_loss: 0.3587 - val_accuracy: 0.8512\n",
            "Epoch 100/100\n",
            "5359/5359 [==============================] - 1s 185us/sample - loss: 0.3368 - accuracy: 0.8600 - val_loss: 0.3585 - val_accuracy: 0.8504\n"
          ],
          "name": "stdout"
        }
      ]
    },
    {
      "cell_type": "code",
      "metadata": {
        "id": "J3M4AwvCV_IW",
        "colab_type": "code",
        "outputId": "31813591-aa16-43e3-bb71-41295b4d0d74",
        "colab": {
          "base_uri": "https://localhost:8080/",
          "height": 35
        }
      },
      "source": [
        "# list all data in history\n",
        "print(model_history.history.keys())"
      ],
      "execution_count": 11,
      "outputs": [
        {
          "output_type": "stream",
          "text": [
            "dict_keys(['loss', 'accuracy', 'val_loss', 'val_accuracy'])\n"
          ],
          "name": "stdout"
        }
      ]
    },
    {
      "cell_type": "code",
      "metadata": {
        "id": "lbpRikadWPiS",
        "colab_type": "code",
        "outputId": "3750ce51-af70-459b-a27d-001c559c736b",
        "colab": {
          "base_uri": "https://localhost:8080/",
          "height": 295
        }
      },
      "source": [
        "plt.plot(model_history.history['accuracy'])\n",
        "plt.plot(model_history.history['val_accuracy'])\n",
        "plt.title('model accuracy')\n",
        "plt.ylabel('accuracy')\n",
        "plt.xlabel('epoch')\n",
        "plt.legend(['train', 'test'], loc='upper left')\n",
        "plt.show()"
      ],
      "execution_count": 12,
      "outputs": [
        {
          "output_type": "display_data",
          "data": {
            "image/png": "[encoded data removed]",
            "text/plain": [
              "<Figure size 432x288 with 1 Axes>"
            ]
          },
          "metadata": {
            "tags": []
          }
        }
      ]
    },
    {
      "cell_type": "code",
      "metadata": {
        "id": "RiU8qy54W6mu",
        "colab_type": "code",
        "outputId": "cad83543-ac9a-4943-d935-aa12c0948d2a",
        "colab": {
          "base_uri": "https://localhost:8080/",
          "height": 295
        }
      },
      "source": [
        "# summarize history for loss\n",
        "plt.plot(model_history.history['loss'])\n",
        "plt.plot(model_history.history['val_loss'])\n",
        "plt.title('model loss')\n",
        "plt.ylabel('loss')\n",
        "plt.xlabel('epoch')\n",
        "plt.legend(['train', 'test'], loc='upper left')\n",
        "plt.show()"
      ],
      "execution_count": 13,
      "outputs": [
        {
          "output_type": "display_data",
          "data": {
            "image/png": "[encoded data removed]",
            "text/plain": [
              "<Figure size 432x288 with 1 Axes>"
            ]
          },
          "metadata": {
            "tags": []
          }
        }
      ]
    },
    {
      "cell_type": "code",
      "metadata": {
        "id": "xxUaV4HtXA7X",
        "colab_type": "code",
        "outputId": "53afd726-27ca-4923-ba6a-232840a02916",
        "colab": {
          "base_uri": "https://localhost:8080/",
          "height": 146
        }
      },
      "source": [
        "# Part 3 - Making the predictions and evaluating the model\n",
        "\n",
        "# Predicting the Test set results\n",
        "y_pred = classifier.predict(X_test)\n",
        "y_pred"
      ],
      "execution_count": 14,
      "outputs": [
        {
          "output_type": "execute_result",
          "data": {
            "text/plain": [
              "array([[0.3299524 ],\n",
              "       [0.457798  ],\n",
              "       [0.1976261 ],\n",
              "       ...,\n",
              "       [0.27720204],\n",
              "       [0.1726866 ],\n",
              "       [0.21800266]], dtype=float32)"
            ]
          },
          "metadata": {
            "tags": []
          },
          "execution_count": 14
        }
      ]
    },
    {
      "cell_type": "code",
      "metadata": {
        "id": "8LUHWLWpXNpq",
        "colab_type": "code",
        "outputId": "288cfb26-5396-4ee4-e9a1-9ced09b9a243",
        "colab": {
          "base_uri": "https://localhost:8080/",
          "height": 146
        }
      },
      "source": [
        "y_pred = (y_pred > 0.5)\n",
        "y_pred"
      ],
      "execution_count": 15,
      "outputs": [
        {
          "output_type": "execute_result",
          "data": {
            "text/plain": [
              "array([[False],\n",
              "       [False],\n",
              "       [False],\n",
              "       ...,\n",
              "       [False],\n",
              "       [False],\n",
              "       [False]])"
            ]
          },
          "metadata": {
            "tags": []
          },
          "execution_count": 15
        }
      ]
    },
    {
      "cell_type": "code",
      "metadata": {
        "id": "mcT65UOlXnVF",
        "colab_type": "code",
        "outputId": "2ff8db39-71fd-4c61-ae50-940d10ca95a5",
        "colab": {
          "base_uri": "https://localhost:8080/",
          "height": 54
        }
      },
      "source": [
        "# Making the Confusion Matrix\n",
        "from sklearn.metrics import confusion_matrix\n",
        "cm = confusion_matrix(y_test, y_pred)\n",
        "cm"
      ],
      "execution_count": 16,
      "outputs": [
        {
          "output_type": "execute_result",
          "data": {
            "text/plain": [
              "array([[1517,   78],\n",
              "       [ 202,  203]])"
            ]
          },
          "metadata": {
            "tags": []
          },
          "execution_count": 16
        }
      ]
    },
    {
      "cell_type": "code",
      "metadata": {
        "id": "1BbKh0g-X9ks",
        "colab_type": "code",
        "outputId": "915b8d91-b86d-4ccb-f73a-291555a04579",
        "colab": {
          "base_uri": "https://localhost:8080/",
          "height": 35
        }
      },
      "source": [
        "# Calculate the Accuracy\n",
        "from sklearn.metrics import accuracy_score\n",
        "score=accuracy_score(y_pred,y_test)\n",
        "score"
      ],
      "execution_count": 17,
      "outputs": [
        {
          "output_type": "execute_result",
          "data": {
            "text/plain": [
              "0.86"
            ]
          },
          "metadata": {
            "tags": []
          },
          "execution_count": 17
        }
      ]
    }
  ]
}